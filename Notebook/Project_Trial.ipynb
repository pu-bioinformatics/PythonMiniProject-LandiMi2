{
 "cells": [
  {
   "cell_type": "code",
   "execution_count": 1,
   "metadata": {},
   "outputs": [
    {
     "ename": "NameError",
     "evalue": "name 'file_input' is not defined",
     "output_type": "error",
     "traceback": [
      "\u001b[0;31m---------------------------------------------------------------------------\u001b[0m",
      "\u001b[0;31mNameError\u001b[0m                                 Traceback (most recent call last)",
      "\u001b[0;32m<ipython-input-1-550373a36aa6>\u001b[0m in \u001b[0;36m<module>\u001b[0;34m\u001b[0m\n\u001b[1;32m     18\u001b[0m \u001b[0;34m\u001b[0m\u001b[0m\n\u001b[1;32m     19\u001b[0m \u001b[0;34m\u001b[0m\u001b[0m\n\u001b[0;32m---> 20\u001b[0;31m \u001b[0mmenu\u001b[0m\u001b[0;34m(\u001b[0m\u001b[0mfile_input\u001b[0m\u001b[0;34m)\u001b[0m\u001b[0;34m\u001b[0m\u001b[0;34m\u001b[0m\u001b[0m\n\u001b[0m\u001b[1;32m     21\u001b[0m \u001b[0;34m\u001b[0m\u001b[0m\n\u001b[1;32m     22\u001b[0m \u001b[0;34m\u001b[0m\u001b[0m\n",
      "\u001b[0;31mNameError\u001b[0m: name 'file_input' is not defined"
     ]
    }
   ],
   "source": [
    "\n",
    "\n",
    "def menu(file_input):\n",
    "    print (80 * '*')\n",
    "    print ('*' + 1*' ' + 'PDB FILE ANALYZER' + 60*' ' + '*')\n",
    "    print (80 * '*')\n",
    "    print ('*'+ 1*' ' + 'Select an option from below:' + 49*' ' + '*')\n",
    "    print ('*' + 78*' ' + '*')\n",
    "    print ('*' + 6*' ' + '1) Open a PDB File' + 23*' ' + '(O)' + 28*' ' + '*')\n",
    "    print ('*' + 6*' ' + '2) Information'+ 27*' ' + '(I)' + 28*' ' + '*')\n",
    "    print ('*' + 6*' ' + '3) Show histogram of amino acids '+ 8*' ' + '(H)' + 28*' ' + '*')\n",
    "    print ('*' + 6*' ' + '4) Display Secondary Structure'+ 11*' ' + '(S)' + 28*' ' + '*')\n",
    "    print ('*' + 6*' ' + '5) Export PDB File '+ 22*' ' + '(X)' + 28*' ' + '*')\n",
    "    print ('*' + 6*' ' + '6) Exit '+ 33*' ' + '(X)' + 28*' ' + '*')\n",
    "    print ('*' + 61*' ' + 'Current PDB: %s'%update + '*')\n",
    "    print (80 * '*')\n",
    "    \n",
    "\n",
    "    \n",
    "menu(file_input)\n",
    "\n",
    "\n",
    "\n",
    "def input_options():\n",
    "    option = input (\"\"\" \n",
    "    From the Menu, below are the options for you to input. \n",
    "    Kindly provide input from the options provided \n",
    "                        O: Open a PDB %%file\n",
    "                        I: Information \n",
    "                        H: Show histogram of amino acids\n",
    "                        S: Display Secondary structure \n",
    "                        X: Export PDB File\n",
    "                        Q: Exit\n",
    "                        \n",
    "                        Please Enter your choice: \"\"\")\n",
    "    if option.lower() == 'o':\n",
    "        option_O()\n",
    "\n",
    "        \n",
    "        \n",
    "    \n",
    "        \n",
    "input_options()\n",
    "\n",
    "\n",
    "\n"
   ]
  },
  {
   "cell_type": "code",
   "execution_count": 44,
   "metadata": {},
   "outputs": [
    {
     "name": "stdout",
     "output_type": "stream",
     "text": [
      "3ayu.pdb\n"
     ]
    }
   ],
   "source": [
    "update = update.replace(\"None\", file_input)\n",
    "print(update)"
   ]
  },
  {
   "cell_type": "code",
   "execution_count": 33,
   "metadata": {},
   "outputs": [
    {
     "name": "stdout",
     "output_type": "stream",
     "text": [
      "None\n"
     ]
    }
   ],
   "source": [
    "print(update)"
   ]
  },
  {
   "cell_type": "code",
   "execution_count": 2,
   "metadata": {},
   "outputs": [
    {
     "name": "stdin",
     "output_type": "stream",
     "text": [
      "Enter a valid PATH for a PDB file:  a.pbd\n"
     ]
    },
    {
     "name": "stdout",
     "output_type": "stream",
     "text": [
      "File does not exists, provide a proper PATH!!!.\n"
     ]
    },
    {
     "name": "stdin",
     "output_type": "stream",
     "text": [
      "Enter a valid PATH for a PDB file:  ./a.pbd\n"
     ]
    },
    {
     "name": "stdout",
     "output_type": "stream",
     "text": [
      "File does not exists, provide a proper PATH!!!.\n"
     ]
    },
    {
     "name": "stdin",
     "output_type": "stream",
     "text": [
      "Enter a valid PATH for a PDB file:  ../a.pdb\n"
     ]
    },
    {
     "name": "stdout",
     "output_type": "stream",
     "text": [
      "File does not exists, provide a proper PATH!!!.\n"
     ]
    },
    {
     "name": "stdin",
     "output_type": "stream",
     "text": [
      "Enter a valid PATH for a PDB file:  ./a.pdb\n"
     ]
    },
    {
     "name": "stdout",
     "output_type": "stream",
     "text": [
      "./a.pdb\n",
      "File exits!!\n"
     ]
    }
   ],
   "source": [
    "update = \"None\"\n",
    "\n",
    "def option_O():\n",
    "    global file_input\n",
    "    import os\n",
    "    import sys\n",
    "   \n",
    "    file_input = input(\"Enter a valid PATH for a PDB file: \")\n",
    "\n",
    "    if os.path.isfile(file_input):\n",
    "        \n",
    "        print(file_input)\n",
    "        print(\"File exits!!\")\n",
    "    else:\n",
    "        print (\"File does not exists, provide a proper PATH!!!.\")\n",
    "        option_O()\n",
    "\n",
    "option_O()\n",
    "\n",
    "\n",
    "\n",
    "\n"
   ]
  },
  {
   "cell_type": "code",
   "execution_count": null,
   "metadata": {},
   "outputs": [],
   "source": []
  },
  {
   "cell_type": "code",
   "execution_count": null,
   "metadata": {},
   "outputs": [],
   "source": []
  },
  {
   "cell_type": "code",
   "execution_count": 52,
   "metadata": {},
   "outputs": [
    {
     "name": "stdout",
     "output_type": "stream",
     "text": [
      "\n",
      "    ********************************************************************************\n",
      "    * PDB FILE ANALYZER                                                            *\n",
      "    ********************************************************************************\n",
      "    * Select an option from below:                                                 *\n",
      "    *                                                                              *\n",
      "    *      1) Open a PDB File                       (O)                            *\n",
      "    *      2) Information                           (I)                            *\n",
      "    *      3) Show histogram of amino acids         (H)                            *\n",
      "    *      4) Display Secondary Structure           (S)                            *\n",
      "    *      5) Export PDB File                       (X)                            *\n",
      "    *      6) Exit                                  (Q)                            *\n",
      "    *                                                                              *\n",
      "    *                                                            Current PDB: None *\n",
      "    ********************************************************************************\n"
     ]
    }
   ],
   "source": [
    "print(\"\"\"\n",
    "    ********************************************************************************\n",
    "    * PDB FILE ANALYZER                                                            *\n",
    "    ********************************************************************************\n",
    "    * Select an option from below:                                                 *\n",
    "    *                                                                              *\n",
    "    *      1) Open a PDB File                       (O)                            *\n",
    "    *      2) Information                           (I)                            *\n",
    "    *      3) Show histogram of amino acids         (H)                            *\n",
    "    *      4) Display Secondary Structure           (S)                            *\n",
    "    *      5) Export PDB File                       (X)                            *\n",
    "    *      6) Exit                                  (Q)                            *\n",
    "    *                                                                              *\n",
    "    *                                                            Current PDB: None *\n",
    "    ********************************************************************************\"\"\")"
   ]
  },
  {
   "cell_type": "code",
   "execution_count": 6,
   "metadata": {},
   "outputs": [
    {
     "name": "stdout",
     "output_type": "stream",
     "text": [
      "Hello , I am now\n"
     ]
    }
   ],
   "source": [
    "greet = \"Hello , I am here\"\n",
    "print(greet.replace(\"here\", \"now\"))"
   ]
  },
  {
   "cell_type": "code",
   "execution_count": 3,
   "metadata": {},
   "outputs": [
    {
     "name": "stdout",
     "output_type": "stream",
     "text": [
      "********************************************************************************\n",
      "* PDB FILE ANALYZER                                                            *\n",
      "********************************************************************************\n",
      "* Select an option from below:                                                 *\n",
      "*                                                                              *\n",
      "*      1) Open a PDB File                       (O)                            *\n",
      "*      2) Information                           (I)                            *\n",
      "*      3) Show histogram of amino acids         (H)                            *\n",
      "*      4) Display Secondary Structure           (S)                            *\n",
      "*      5) Export PDB File                       (X)                            *\n",
      "*      6) Exit                                  (X)                            *\n",
      "*                                                             Current PDB: None*\n",
      "********************************************************************************\n"
     ]
    }
   ],
   "source": [
    "def menu():\n",
    "    print (80 * '*')\n",
    "    print ('*' + 1*' ' +'PDB FILE ANALYZER' + 60*' ' + '*')\n",
    "    print (80 * '*')\n",
    "    print ('*'+ 1*' ' + 'Select an option from below:' + 49*' ' + '*')\n",
    "    print ('*' + 78*' ' + '*')\n",
    "    print ('*' + 6*' ' + '1) Open a PDB File' + 23*' ' + '(O)' + 28*' ' + '*')\n",
    "    print ('*' + 6*' ' + '2) Information'+ 27*' ' + '(I)' + 28*' ' + '*')\n",
    "    print ('*' + 6*' ' + '3) Show histogram of amino acids '+ 8*' ' + '(H)' + 28*' ' + '*')\n",
    "    print ('*' + 6*' ' + '4) Display Secondary Structure'+ 11*' ' + '(S)' + 28*' ' + '*')\n",
    "    print ('*' + 6*' ' + '5) Export PDB File '+ 22*' ' + '(X)' + 28*' ' + '*')\n",
    "    print ('*' + 6*' ' + '6) Exit '+ 33*' ' + '(X)' + 28*' ' + '*')\n",
    "    print ('*' + 61*' ' + 'Current PDB: None' + '*')\n",
    "    print (80 * '*')\n",
    "    return \n",
    "menu()\n"
   ]
  },
  {
   "cell_type": "code",
   "execution_count": null,
   "metadata": {},
   "outputs": [],
   "source": []
  }
 ],
 "metadata": {
  "kernelspec": {
   "display_name": "Python 3",
   "language": "python",
   "name": "python3"
  },
  "language_info": {
   "codemirror_mode": {
    "name": "ipython",
    "version": 3
   },
   "file_extension": ".py",
   "mimetype": "text/x-python",
   "name": "python",
   "nbconvert_exporter": "python",
   "pygments_lexer": "ipython3",
   "version": "3.7.2"
  }
 },
 "nbformat": 4,
 "nbformat_minor": 2
}
