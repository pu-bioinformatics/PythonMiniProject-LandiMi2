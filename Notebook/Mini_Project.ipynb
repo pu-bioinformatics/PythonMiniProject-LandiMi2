{
 "cells": [
  {
   "cell_type": "code",
   "execution_count": 1,
   "metadata": {},
   "outputs": [
    {
     "name": "stdout",
     "output_type": "stream",
     "text": [
      "********************************************************************************\n",
      "* PDB FILE ANALYZER                                                            *\n",
      "********************************************************************************\n",
      "* Select an option from below:                                                 *\n",
      "*                                                                              *\n",
      "*      1) Open a PDB File                       (O)                            *\n",
      "*      2) Information                           (I)                            *\n",
      "*      3) Show histogram of amino acids         (H)                            *\n",
      "*      4) Display Secondary Structure           (S)                            *\n",
      "*      5) Export PDB File                       (X)                            *\n",
      "*      6) Exit                                  (Q)                            *\n",
      "*                                                       Current PDB:   None    *\n",
      "********************************************************************************\n"
     ]
    },
    {
     "name": "stdin",
     "output_type": "stream",
     "text": [
      " \n",
      "    From the Menu, below are the options for you to input. \n",
      "    Kindly provide input from the options provided \n",
      "                        O: Open a PDB file\n",
      "                        I: Information \n",
      "                        H: Show histogram of amino acids\n",
      "                        S: Display Secondary structure \n",
      "                        X: Export PDB File\n",
      "                        Q: Exit\n",
      "                        \n",
      "                        Please Enter your choice:  x\n",
      "Enter a valid PATH for a PDB file:  c.pdb\n"
     ]
    },
    {
     "name": "stdout",
     "output_type": "stream",
     "text": [
      "The File c.pdb has been successfully loaded\n"
     ]
    },
    {
     "name": "stdin",
     "output_type": "stream",
     "text": [
      "Enter name of output file you want to export:  a\n"
     ]
    },
    {
     "name": "stdout",
     "output_type": "stream",
     "text": [
      "File c.pdb has been exported to a\n"
     ]
    },
    {
     "name": "stdin",
     "output_type": "stream",
     "text": [
      " \n",
      "    From the Menu, below are the options for you to input. \n",
      "    Kindly provide input from the options provided \n",
      "                        O: Open a PDB file\n",
      "                        I: Information \n",
      "                        H: Show histogram of amino acids\n",
      "                        S: Display Secondary structure \n",
      "                        X: Export PDB File\n",
      "                        Q: Exit\n",
      "                        \n",
      "                        Please Enter your choice:  q\n"
     ]
    },
    {
     "ename": "NameError",
     "evalue": "name 'exit2' is not defined",
     "output_type": "error",
     "traceback": [
      "\u001b[0;31m---------------------------------------------------------------------------\u001b[0m",
      "\u001b[0;31mNameError\u001b[0m                                 Traceback (most recent call last)",
      "\u001b[0;32m<ipython-input-1-e705b004e14a>\u001b[0m in \u001b[0;36m<module>\u001b[0;34m\u001b[0m\n\u001b[1;32m     60\u001b[0m \u001b[0;34m\u001b[0m\u001b[0m\n\u001b[1;32m     61\u001b[0m \u001b[0;34m\u001b[0m\u001b[0m\n\u001b[0;32m---> 62\u001b[0;31m \u001b[0minput_options\u001b[0m\u001b[0;34m(\u001b[0m\u001b[0;34m)\u001b[0m\u001b[0;34m\u001b[0m\u001b[0;34m\u001b[0m\u001b[0m\n\u001b[0m\u001b[1;32m     63\u001b[0m \u001b[0;34m\u001b[0m\u001b[0m\n\u001b[1;32m     64\u001b[0m \u001b[0;32mdef\u001b[0m \u001b[0mexit2\u001b[0m\u001b[0;34m(\u001b[0m\u001b[0;34m)\u001b[0m\u001b[0;34m:\u001b[0m\u001b[0;34m\u001b[0m\u001b[0;34m\u001b[0m\u001b[0m\n",
      "\u001b[0;32m<ipython-input-1-e705b004e14a>\u001b[0m in \u001b[0;36minput_options\u001b[0;34m()\u001b[0m\n\u001b[1;32m     53\u001b[0m     \u001b[0;32melif\u001b[0m \u001b[0moption\u001b[0m\u001b[0;34m.\u001b[0m\u001b[0mlower\u001b[0m\u001b[0;34m(\u001b[0m\u001b[0;34m)\u001b[0m \u001b[0;34m==\u001b[0m \u001b[0;34m'x'\u001b[0m\u001b[0;34m:\u001b[0m\u001b[0;34m\u001b[0m\u001b[0;34m\u001b[0m\u001b[0m\n\u001b[1;32m     54\u001b[0m         \u001b[0mmodules\u001b[0m\u001b[0;34m.\u001b[0m\u001b[0moption_X\u001b[0m\u001b[0;34m(\u001b[0m\u001b[0;34m)\u001b[0m\u001b[0;34m\u001b[0m\u001b[0;34m\u001b[0m\u001b[0m\n\u001b[0;32m---> 55\u001b[0;31m         \u001b[0minput_options\u001b[0m\u001b[0;34m(\u001b[0m\u001b[0;34m)\u001b[0m\u001b[0;34m\u001b[0m\u001b[0;34m\u001b[0m\u001b[0m\n\u001b[0m\u001b[1;32m     56\u001b[0m     \u001b[0;32melif\u001b[0m \u001b[0moption\u001b[0m\u001b[0;34m.\u001b[0m\u001b[0mlower\u001b[0m\u001b[0;34m(\u001b[0m\u001b[0;34m)\u001b[0m \u001b[0;34m==\u001b[0m \u001b[0;34m'q'\u001b[0m\u001b[0;34m:\u001b[0m\u001b[0;34m\u001b[0m\u001b[0;34m\u001b[0m\u001b[0m\n\u001b[1;32m     57\u001b[0m         \u001b[0mexit2\u001b[0m\u001b[0;34m(\u001b[0m\u001b[0;34m)\u001b[0m\u001b[0;34m\u001b[0m\u001b[0;34m\u001b[0m\u001b[0m\n",
      "\u001b[0;32m<ipython-input-1-e705b004e14a>\u001b[0m in \u001b[0;36minput_options\u001b[0;34m()\u001b[0m\n\u001b[1;32m     55\u001b[0m         \u001b[0minput_options\u001b[0m\u001b[0;34m(\u001b[0m\u001b[0;34m)\u001b[0m\u001b[0;34m\u001b[0m\u001b[0;34m\u001b[0m\u001b[0m\n\u001b[1;32m     56\u001b[0m     \u001b[0;32melif\u001b[0m \u001b[0moption\u001b[0m\u001b[0;34m.\u001b[0m\u001b[0mlower\u001b[0m\u001b[0;34m(\u001b[0m\u001b[0;34m)\u001b[0m \u001b[0;34m==\u001b[0m \u001b[0;34m'q'\u001b[0m\u001b[0;34m:\u001b[0m\u001b[0;34m\u001b[0m\u001b[0;34m\u001b[0m\u001b[0m\n\u001b[0;32m---> 57\u001b[0;31m         \u001b[0mexit2\u001b[0m\u001b[0;34m(\u001b[0m\u001b[0;34m)\u001b[0m\u001b[0;34m\u001b[0m\u001b[0;34m\u001b[0m\u001b[0m\n\u001b[0m\u001b[1;32m     58\u001b[0m \u001b[0;34m\u001b[0m\u001b[0m\n\u001b[1;32m     59\u001b[0m \u001b[0;34m\u001b[0m\u001b[0m\n",
      "\u001b[0;31mNameError\u001b[0m: name 'exit2' is not defined"
     ]
    }
   ],
   "source": [
    "file_name = '  None  '\n",
    "import modules \n",
    "\n",
    "def menu(file_name):\n",
    "    #global file_name\n",
    "    print (80 * '*')\n",
    "    print ('*' + 1*' ' + 'PDB FILE ANALYZER' + 60*' ' + '*')\n",
    "    print (80 * '*')\n",
    "    print ('*'+ 1*' ' + 'Select an option from below:' + 49*' ' + '*')\n",
    "    print ('*' + 78*' ' + '*')\n",
    "    print ('*' + 6*' ' + '1) Open a PDB File' + 23*' ' + '(O)' + 28*' ' + '*')\n",
    "    print ('*' + 6*' ' + '2) Information'+ 27*' ' + '(I)' + 28*' ' + '*')\n",
    "    print ('*' + 6*' ' + '3) Show histogram of amino acids '+ 8*' ' + '(H)' + 28*' ' + '*')\n",
    "    print ('*' + 6*' ' + '4) Display Secondary Structure'+ 11*' ' + '(S)' + 28*' ' + '*')\n",
    "    print ('*' + 6*' ' + '5) Export PDB File '+ 22*' ' + '(X)' + 28*' ' + '*')\n",
    "    print ('*' + 6*' ' + '6) Exit '+ 33*' ' + '(Q)' + 28*' ' + '*')\n",
    "    print ('*' + 55*' ' + 'Current PDB: %s  ' %file_name + '*')\n",
    "    print (80 * '*')\n",
    "    \n",
    "menu(file_name)\n",
    "\n",
    "def input_options():\n",
    "    #global file_name \n",
    "    global file_input\n",
    "    option = input (\"\"\" \n",
    "    From the Menu, below are the options for you to input. \n",
    "    Kindly provide input from the options provided \n",
    "                        O: Open a PDB file\n",
    "                        I: Information \n",
    "                        H: Show histogram of amino acids\n",
    "                        S: Display Secondary structure \n",
    "                        X: Export PDB File\n",
    "                        Q: Exit\n",
    "                        \n",
    "                        Please Enter your choice: \"\"\")\n",
    "    if option.lower() == 'o':\n",
    "        #file_name = modules.option_O() #overwriting name variable returned from the function\n",
    "        modules.option_O()\n",
    "        menu(file_name)\n",
    "        input_options()\n",
    "        \n",
    "    elif option.lower() == 'i':\n",
    "        modules.option_I()\n",
    "        input_options()\n",
    "        \n",
    "    elif option.lower() == 'h':\n",
    "        modules.option_H()\n",
    "        input_options()\n",
    "    elif option.lower() == 's':\n",
    "        modules.option_S()\n",
    "        input_options()\n",
    "        \n",
    "    elif option.lower() == 'x':\n",
    "        modules.option_X()\n",
    "        input_options()\n",
    "    elif option.lower() == 'q':\n",
    "        exit2()\n",
    "        \n",
    "    \n",
    "        \n",
    "\n",
    "input_options()\n",
    "\n",
    "def exit2():\n",
    "    exit_plan = input('Do you want to exit (E) or Do you want to go back to menu (M)')\n",
    "    exit_plan = exit_plan.upper()\n",
    "    if exit_plan == 'E':\n",
    "        print ('Awesome!!! Thank you for using this script to browse your PDB file.')\n",
    "    elif exit_plan == 'M':\n",
    "        print ('Okay....Taking you back to the menu.')\n",
    "        input_options()\n",
    "    else:\n",
    "        exit2()\n",
    "  \n",
    "\n"
   ]
  },
  {
   "cell_type": "code",
   "execution_count": 7,
   "metadata": {},
   "outputs": [
    {
     "name": "stdin",
     "output_type": "stream",
     "text": [
      "E or M M\n"
     ]
    },
    {
     "name": "stdout",
     "output_type": "stream",
     "text": [
      "Menu\n"
     ]
    },
    {
     "name": "stdin",
     "output_type": "stream",
     "text": [
      " \n",
      "    From the Menu, below are the options for you to input. \n",
      "    Kindly provide input from the options provided \n",
      "                        O: Open a PDB file\n",
      "                        I: Information \n",
      "                        H: Show histogram of amino acids\n",
      "                        S: Display Secondary structure \n",
      "                        X: Export PDB File\n",
      "                        Q: Exit\n",
      "                        \n",
      "                        Please Enter your choice:  o\n",
      "Enter a valid PATH for a PDB file:  a.pdb\n"
     ]
    },
    {
     "name": "stdout",
     "output_type": "stream",
     "text": [
      "a.pdb\n",
      "The File a.pdb has been successfully loaded\n",
      "********************************************************************************\n",
      "* PDB FILE ANALYZER                                                            *\n",
      "********************************************************************************\n",
      "* Select an option from below:                                                 *\n",
      "*                                                                              *\n",
      "*      1) Open a PDB File                       (O)                            *\n",
      "*      2) Information                           (I)                            *\n",
      "*      3) Show histogram of amino acids         (H)                            *\n",
      "*      4) Display Secondary Structure           (S)                            *\n",
      "*      5) Export PDB File                       (X)                            *\n",
      "*      6) Exit                                  (Q)                            *\n",
      "*                                                       Current PDB:   None    *\n",
      "********************************************************************************\n"
     ]
    },
    {
     "name": "stdin",
     "output_type": "stream",
     "text": [
      " \n",
      "    From the Menu, below are the options for you to input. \n",
      "    Kindly provide input from the options provided \n",
      "                        O: Open a PDB file\n",
      "                        I: Information \n",
      "                        H: Show histogram of amino acids\n",
      "                        S: Display Secondary structure \n",
      "                        X: Export PDB File\n",
      "                        Q: Exit\n",
      "                        \n",
      "                        Please Enter your choice:  h\n",
      "\n",
      "            Choose an option to order by:\n",
      "                number of amino acids - ascending    (an)\n",
      "                number of amino acids - descending   (dn)\n",
      "                alphabetically - ascending           (aa)\n",
      "                alphabetically - descending          (da)\n",
      "            order by: aa\n"
     ]
    },
    {
     "name": "stdout",
     "output_type": "stream",
     "text": [
      "Ala ( 15) : ***************\n",
      "Arg (  7) : *******\n",
      "Asn (  5) : *****\n",
      "Asp ( 20) : ********************\n",
      "Gln (  5) : *****\n",
      "Glu (  6) : ******\n",
      "Gly ( 20) : ********************\n",
      "His (  7) : *******\n",
      "Ile ( 10) : **********\n",
      "Leu ( 13) : *************\n",
      "Lys (  7) : *******\n",
      "Met (  4) : ****\n",
      "Phe ( 12) : ************\n",
      "Pro ( 11) : ***********\n",
      "Ser (  8) : ********\n",
      "Thr (  8) : ********\n",
      "Trp (  4) : ****\n",
      "Tyr (  9) : *********\n",
      "Val (  6) : ******\n"
     ]
    },
    {
     "name": "stdin",
     "output_type": "stream",
     "text": [
      " \n",
      "    From the Menu, below are the options for you to input. \n",
      "    Kindly provide input from the options provided \n",
      "                        O: Open a PDB file\n",
      "                        I: Information \n",
      "                        H: Show histogram of amino acids\n",
      "                        S: Display Secondary structure \n",
      "                        X: Export PDB File\n",
      "                        Q: Exit\n",
      "                        \n",
      "                        Please Enter your choice:  q\n",
      "Do you want to exit (E) or Do you want to go back to menu (M) e\n"
     ]
    },
    {
     "name": "stdout",
     "output_type": "stream",
     "text": [
      "Awesome!!! Thank you for using this script to browse your PDB file.\n"
     ]
    }
   ],
   "source": []
  },
  {
   "cell_type": "code",
   "execution_count": null,
   "metadata": {},
   "outputs": [],
   "source": []
  }
 ],
 "metadata": {
  "kernelspec": {
   "display_name": "Python 3",
   "language": "python",
   "name": "python3"
  },
  "language_info": {
   "codemirror_mode": {
    "name": "ipython",
    "version": 3
   },
   "file_extension": ".py",
   "mimetype": "text/x-python",
   "name": "python",
   "nbconvert_exporter": "python",
   "pygments_lexer": "ipython3",
   "version": "3.7.2"
  }
 },
 "nbformat": 4,
 "nbformat_minor": 2
}
