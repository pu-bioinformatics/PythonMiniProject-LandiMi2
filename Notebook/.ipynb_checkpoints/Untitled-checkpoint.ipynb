{
 "cells": [
  {
   "cell_type": "code",
   "execution_count": 2,
   "metadata": {},
   "outputs": [
    {
     "name": "stdin",
     "output_type": "stream",
     "text": [
      "Enter a valid PATH for a PDB file:  ../Data/3ayu.pdb\n"
     ]
    },
    {
     "name": "stdout",
     "output_type": "stream",
     "text": [
      "The File ../Data/3ayu.pdb has been successfully loaded\n"
     ]
    },
    {
     "name": "stdin",
     "output_type": "stream",
     "text": [
      "Enter name of output file you want to export:  a\n"
     ]
    },
    {
     "name": "stdout",
     "output_type": "stream",
     "text": [
      "File ../Data/3ayu.pdb has been exported to a.txt\n"
     ]
    }
   ],
   "source": [
    "def option_X():\n",
    "    \n",
    "    import os \n",
    "    import sys\n",
    "\n",
    "    file_input = input(\"Enter a valid PATH for a PDB file: \")\n",
    "    \n",
    "\n",
    "    if os.path.isfile(file_input):\n",
    "        print(\"The File %s has been successfully loaded\" %file_input)\n",
    "    else:\n",
    "        print (\"File does not exists, provide a proper PATH!!!.\")\n",
    "        option_X()\n",
    "    \n",
    "    \n",
    "    file_output = input(\"Enter name of output file you want to export: \")\n",
    "    \n",
    "    path_saved = \"../Results/\"\n",
    "    \n",
    "    New_path = os.path.join(path_saved, file_output+\".txt\")\n",
    "    \n",
    "    f = open(New_path, \"w+\")   # creating a .txt file \n",
    "\n",
    "    f.close()\n",
    "\n",
    "\n",
    "    with open(New_path, \"w\") as output:\n",
    "\n",
    "        with open(file_input, \"r\") as file:\n",
    "            for line in file:\n",
    "\n",
    "                output.write(line)\n",
    "                \n",
    "            print( \"File %s has been exported to %s\" %(file_input, file_output+\".txt\"))\n",
    "                \n",
    "option_X()\n"
   ]
  },
  {
   "cell_type": "code",
   "execution_count": 1,
   "metadata": {},
   "outputs": [],
   "source": [
    "f= open(\"example.txt\",\"w+\")"
   ]
  },
  {
   "cell_type": "code",
   "execution_count": 4,
   "metadata": {},
   "outputs": [
    {
     "data": {
      "text/plain": [
       "['chi', 'wa']"
      ]
     },
     "execution_count": 4,
     "metadata": {},
     "output_type": "execute_result"
    }
   ],
   "source": [
    "list(set(lst))"
   ]
  },
  {
   "cell_type": "code",
   "execution_count": 2,
   "metadata": {},
   "outputs": [],
   "source": [
    "lst = [\"chi\", \"wa\", \"wa\"]"
   ]
  },
  {
   "cell_type": "code",
   "execution_count": 3,
   "metadata": {},
   "outputs": [],
   "source": [
    "lit_str = \"\".join(lst)"
   ]
  },
  {
   "cell_type": "code",
   "execution_count": null,
   "metadata": {},
   "outputs": [],
   "source": [
    "lit_str"
   ]
  },
  {
   "cell_type": "code",
   "execution_count": 5,
   "metadata": {},
   "outputs": [
    {
     "name": "stdout",
     "output_type": "stream",
     "text": [
      "chiwawa"
     ]
    }
   ],
   "source": [
    "for a in lit_str:\n",
    "    print(a[0], end = \"\")"
   ]
  },
  {
   "cell_type": "code",
   "execution_count": null,
   "metadata": {},
   "outputs": [],
   "source": []
  }
 ],
 "metadata": {
  "kernelspec": {
   "display_name": "Python 3",
   "language": "python",
   "name": "python3"
  },
  "language_info": {
   "codemirror_mode": {
    "name": "ipython",
    "version": 3
   },
   "file_extension": ".py",
   "mimetype": "text/x-python",
   "name": "python",
   "nbconvert_exporter": "python",
   "pygments_lexer": "ipython3",
   "version": "3.7.2"
  }
 },
 "nbformat": 4,
 "nbformat_minor": 2
}
