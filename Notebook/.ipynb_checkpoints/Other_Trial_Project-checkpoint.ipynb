{
 "cells": [
  {
   "cell_type": "code",
   "execution_count": null,
   "metadata": {},
   "outputs": [],
   "source": [
    "elif option.lower() == 'i':\n",
    "        print (\"This is the information:\")\n",
    "    elif option.lower() == 'h':\n",
    "        print (\"This is the histogram of amino acids:\")\n",
    "    elif option.lower() == 's':\n",
    "        print (\"Displaying the Secondary Structure: \")\n",
    "    elif option.lower() == 'x':\n",
    "        print (\"Exporting PDB file :\")\n",
    "    elif option.lower() == 'q':\n",
    "        print (\"Exiting program\")\n",
    "    else:\n",
    "        print (\"You have to input either O or I or H or S or X or Q \")\n",
    "        print (\"Please try again : \")\n",
    "        input_options() # call back the option function to re-input the options \n",
    "    "
   ]
  },
  {
   "cell_type": "code",
   "execution_count": 50,
   "metadata": {},
   "outputs": [
    {
     "name": "stdout",
     "output_type": "stream",
     "text": [
      "********************************************************************************\n",
      "* PDB FILE ANALYZER                                                            *\n",
      "********************************************************************************\n",
      "* Select an option from below:                                                 *\n",
      "*                                                                              *\n",
      "*      1) Open a PDB File                       (O)                            *\n",
      "*      2) Information                           (I)                            *\n",
      "*      3) Show histogram of amino acids         (H)                            *\n",
      "*      4) Display Secondary Structure           (S)                            *\n",
      "*      5) Export PDB File                       (X)                            *\n",
      "*      6) Exit                                  (X)                            *\n",
      "*                                                             Current PDB: None*\n",
      "********************************************************************************\n"
     ]
    },
    {
     "name": "stdin",
     "output_type": "stream",
     "text": [
      " \n",
      "    From the Menu, below are the options for you to input. \n",
      "    Kindly provide input from the options provided \n",
      "                        O: Open a PDB file\n",
      "                        I: Information \n",
      "                        H: Show histogram of amino acids\n",
      "                        S: Display Secondary structure \n",
      "                        X: Export PDB File\n",
      "                        Q: Exit\n",
      "                        \n",
      "                        Please Enter your choice:  o\n",
      "Enter a valid PATH for a PDB file:  a.pdb\n"
     ]
    },
    {
     "name": "stdout",
     "output_type": "stream",
     "text": [
      "File exits!!\n"
     ]
    }
   ],
   "source": [
    "def menu():\n",
    "    print (80 * '*')\n",
    "    print ('*' + 1*' ' + 'PDB FILE ANALYZER' + 60*' ' + '*')\n",
    "    print (80 * '*')\n",
    "    print ('*'+ 1*' ' + 'Select an option from below:' + 49*' ' + '*')\n",
    "    print ('*' + 78*' ' + '*')\n",
    "    print ('*' + 6*' ' + '1) Open a PDB File' + 23*' ' + '(O)' + 28*' ' + '*')\n",
    "    print ('*' + 6*' ' + '2) Information'+ 27*' ' + '(I)' + 28*' ' + '*')\n",
    "    print ('*' + 6*' ' + '3) Show histogram of amino acids '+ 8*' ' + '(H)' + 28*' ' + '*')\n",
    "    print ('*' + 6*' ' + '4) Display Secondary Structure'+ 11*' ' + '(S)' + 28*' ' + '*')\n",
    "    print ('*' + 6*' ' + '5) Export PDB File '+ 22*' ' + '(X)' + 28*' ' + '*')\n",
    "    print ('*' + 6*' ' + '6) Exit '+ 33*' ' + '(X)' + 28*' ' + '*')\n",
    "    print ('*' + 61*' ' + 'Current PDB: None' + '*')\n",
    "    print (80 * '*')\n",
    "    \n",
    "menu()\n",
    "\n",
    "def input_options():\n",
    "    option = input (\"\"\" \n",
    "    From the Menu, below are the options for you to input. \n",
    "    Kindly provide input from the options provided \n",
    "                        O: Open a PDB file\n",
    "                        I: Information \n",
    "                        H: Show histogram of amino acids\n",
    "                        S: Display Secondary structure \n",
    "                        X: Export PDB File\n",
    "                        Q: Exit\n",
    "                        \n",
    "                        Please Enter your choice: \"\"\")\n",
    "    if option.lower() == 'o':\n",
    "        option_O()\n",
    "        \n",
    "\n",
    "input_options()"
   ]
  },
  {
   "cell_type": "code",
   "execution_count": 2,
   "metadata": {},
   "outputs": [
    {
     "name": "stdin",
     "output_type": "stream",
     "text": [
      "Enter a valid PATH for a PDB file:  a.pdb\n"
     ]
    },
    {
     "name": "stdout",
     "output_type": "stream",
     "text": [
      "File exits!!\n"
     ]
    }
   ],
   "source": [
    "def option_O():\n",
    "    import os\n",
    "    import sys\n",
    "\n",
    "    file_input = input(\"Enter a valid PATH for a PDB file: \")\n",
    "\n",
    "    if os.path.isfile(file_input):\n",
    "        print(\"File exits!!\")\n",
    "    else:\n",
    "        print (\"File does not exists, provide a proper PATH!!!.\")\n",
    "        option_O()\n",
    "\n",
    "option_O()\n",
    "\n",
    "\n"
   ]
  },
  {
   "cell_type": "code",
   "execution_count": 3,
   "metadata": {},
   "outputs": [
    {
     "name": "stdin",
     "output_type": "stream",
     "text": [
      "Enter a valid PATH for a PDB file:  a.pdb\n"
     ]
    },
    {
     "name": "stdout",
     "output_type": "stream",
     "text": [
      "PDB File :a.pdb\n",
      "Title: CRYSTAL STRUCTURE OF MMP-2 ACTIVE SITE MUTANT IN COMPLEX WITH APP-2 DRIVED DECAPEPTIDE INHIBITOR "
     ]
    }
   ],
   "source": [
    "\n",
    "\n",
    "def option_I():\n",
    "    \"\"\"This function for option I returns the file name of the pdb file and header\n",
    "    of the file as well as displays chains requence of the file \"\"\"\n",
    "    global file_input\n",
    "    file_input = input(\"Enter a valid PATH for a PDB file: \")\n",
    "    title = []\n",
    "    with open(file_input, \"r\") as file:\n",
    "        print (\"PDB File :%s\"%file_input)\n",
    "        for line in file:\n",
    "            if line.startswith('TITLE'):\n",
    "                line = line.rstrip()  #strip ending white spaces including newline \n",
    "                title.append(line[9:])\n",
    "                title_str = \"\".join(title)\n",
    "        print ('Title:'+\"\".join( title_str.strip('TITLE')) ,end = \" \")\n",
    "                \n",
    "                \n",
    "\n",
    "option_I()\n",
    "\n",
    "\n"
   ]
  },
  {
   "cell_type": "code",
   "execution_count": 5,
   "metadata": {},
   "outputs": [
    {
     "name": "stdout",
     "output_type": "stream",
     "text": [
      "ILE SER TYR GLY ASN ASP ALA LEU MET PRO \n"
     ]
    }
   ],
   "source": [
    "amino_A = \"\"\n",
    "amino_B = []\n",
    "#file_input = input(\"Enter a valid PATH for a PDB file: \")\n",
    "\n",
    "\n",
    "\n",
    "\n",
    "with open(\"./a.pdb\", \"r\") as file:\n",
    "    for line in file:\n",
    "        if line.startswith('SEQRES'):\n",
    "            line = line.rstrip() #remove whitespace at the end of each line \n",
    "            chains = []\n",
    "            for chain in line[11]:\n",
    "                chains.append(chain)\n",
    "                chain_list = list(set(chains))\n",
    "                \n",
    "    \n",
    "    \n",
    "            \n",
    "            if line[11] == 'B':\n",
    "                amino_A = amino_A + line[19:] + \" \"\n",
    "                \n",
    "                #amino_A.append(line[19:])\n",
    "                \n",
    "            \n",
    "    print(amino_A)    \n",
    "            \n",
    "            \n",
    "            \n",
    "            #if line[11] == 'B':\n",
    "                #print(line[19:])\n",
    "               \n",
    "                \n",
    "            \n",
    "            \n",
    "            #amino.append(line)\n",
    "           "
   ]
  },
  {
   "cell_type": "code",
   "execution_count": null,
   "metadata": {},
   "outputs": [],
   "source": []
  },
  {
   "cell_type": "code",
   "execution_count": 17,
   "metadata": {},
   "outputs": [
    {
     "name": "stdout",
     "output_type": "stream",
     "text": [
      "['A', 'B']\n"
     ]
    }
   ],
   "source": [
    "chains = []\n",
    "\n",
    "with open (\"./a.pdb\", \"r\") as file:\n",
    "    for line in file:\n",
    "        if line.startswith('SEQRES'):\n",
    "            line = line.rstrip()\n",
    "            \n",
    "            for chain in line[11]:\n",
    "                chains.append(chain)\n",
    "                chain_list = list(set(chains))\n",
    "    \n",
    "    print(chain_list)\n",
    "    \n",
    "    for a in chain_list:\n",
    "        amino_A = amino_A + line[19:] + \" \"\n",
    "        \n",
    "                \n",
    "    \n",
    "            \n",
    "\n"
   ]
  },
  {
   "cell_type": "code",
   "execution_count": 58,
   "metadata": {},
   "outputs": [
    {
     "name": "stdout",
     "output_type": "stream",
     "text": [
      "mike:Did not seat for exams!!!\n",
      "mike:Did not seat for exams!!!\n",
      "mike:Did not seat for exams!!!\n",
      "festo 6\n",
      "festo 6\n",
      "festo 6\n",
      "kofia 9\n",
      "kofia 9\n",
      "kofia 9\n",
      "martha:Did not seat for exams!!!\n",
      "martha:Did not seat for exams!!!\n",
      "martha:Did not seat for exams!!!\n"
     ]
    }
   ],
   "source": [
    "list_a = ['mike', 'festo', 'kofia', 'martha']\n",
    "\n",
    "dic_score = {'festo': 6 , 'kofia' : 9, 'John': 5}\n",
    "\n",
    "for name in list_a:\n",
    "    for score in dic_score:\n",
    "        if name in dic_score.keys():\n",
    "            print (name, dic_score.get(name))\n",
    "        else:\n",
    "            print(\"%s:Did not seat for exams!!!\"%name)\n",
    "\n"
   ]
  },
  {
   "cell_type": "code",
   "execution_count": null,
   "metadata": {},
   "outputs": [],
   "source": []
  }
 ],
 "metadata": {
  "kernelspec": {
   "display_name": "Python 3",
   "language": "python",
   "name": "python3"
  },
  "language_info": {
   "codemirror_mode": {
    "name": "ipython",
    "version": 3
   },
   "file_extension": ".py",
   "mimetype": "text/x-python",
   "name": "python",
   "nbconvert_exporter": "python",
   "pygments_lexer": "ipython3",
   "version": "3.7.2"
  }
 },
 "nbformat": 4,
 "nbformat_minor": 2
}
