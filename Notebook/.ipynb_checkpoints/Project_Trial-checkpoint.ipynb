{
 "cells": [
  {
   "cell_type": "code",
   "execution_count": 3,
   "metadata": {},
   "outputs": [
    {
     "name": "stdout",
     "output_type": "stream",
     "text": [
      "Enter your score for grading:20.3\n",
      "F\n"
     ]
    }
   ],
   "source": [
    "score = float(input(\"Enter your score for grading:\"))\n",
    "\n",
    "if score < 60:\n",
    "    print (\"F\")\n",
    "elif score < 70:\n",
    "    print (\"D\")\n",
    "elif score < 80:\n",
    "    print (\"C\")\n",
    "elif score < 90:\n",
    "    print (\"B\")\n",
    "else:\n",
    "    print (\"A\")"
   ]
  },
  {
   "cell_type": "code",
   "execution_count": 29,
   "metadata": {},
   "outputs": [
    {
     "name": "stdout",
     "output_type": "stream",
     "text": [
      "Enter year to check if its a leap year or not:2056\n",
      "True. this is a leap year\n"
     ]
    }
   ],
   "source": [
    "year = int(input(\"Enter year to check if its a leap year or not:\"))\n",
    "\n",
    "if year%100 == 0:\n",
    "    if year%400 == 0:\n",
    "        print (\"True. this is a leap year\")\n",
    "    else:\n",
    "            \n",
    "        print (\"False. this is not a leap year\")\n",
    "else:\n",
    "    if year%4 == 0 :\n",
    "        print (\"True. this is a leap year\")\n",
    "    else:\n",
    "        print (\"False. this is not a leap year\")"
   ]
  },
  {
   "cell_type": "code",
   "execution_count": null,
   "metadata": {},
   "outputs": [],
   "source": []
  },
  {
   "cell_type": "code",
   "execution_count": null,
   "metadata": {},
   "outputs": [],
   "source": []
  }
 ],
 "metadata": {
  "kernelspec": {
   "display_name": "Python 3",
   "language": "python",
   "name": "python3"
  },
  "language_info": {
   "codemirror_mode": {
    "name": "ipython",
    "version": 3
   },
   "file_extension": ".py",
   "mimetype": "text/x-python",
   "name": "python",
   "nbconvert_exporter": "python",
   "pygments_lexer": "ipython3",
   "version": "3.7.2"
  }
 },
 "nbformat": 4,
 "nbformat_minor": 2
}
